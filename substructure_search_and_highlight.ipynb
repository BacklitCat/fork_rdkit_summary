{
 "cells": [
  {
   "cell_type": "markdown",
   "metadata": {},
   "source": [
    "# 单个子结构搜索与展示"
   ]
  },
  {
   "cell_type": "markdown",
   "metadata": {},
   "source": [
    "* 首先初始化一个分子，并设置一个要搜索的SMARTS/SMILES"
   ]
  },
  {
   "cell_type": "code",
   "execution_count": 10,
   "metadata": {},
   "outputs": [
    {
     "data": {
      "image/png": "[encoded data removed]",
      "text/plain": [
       "<rdkit.Chem.rdchem.Mol at 0x7af6990>"
      ]
     },
     "execution_count": 10,
     "metadata": {},
     "output_type": "execute_result"
    }
   ],
   "source": [
    "from rdkit import Chem\n",
    "from rdkit.Chem.Draw import rdMolDraw2D\n",
    "smi = 'Clc1c(Cl)c(O)ccc1O'\n",
    "mol = Chem.MolFromSmiles(smi)\n",
    "patt = Chem.MolFromSmarts('ClccO')\n",
    "mol"
   ]
  },
  {
   "cell_type": "markdown",
   "metadata": {},
   "source": [
    "## 1.判断是否包含子结构\n",
    "* 通过SMARTS判断是否存在子结构：HasSubstructMatch(query, recursionPossible, useChirality, ...)<br />\n",
    "query：要搜索的SMARTS子结构<br />\n",
    "recursionPossible：允许递归查询，默认True<br />\n",
    "useChirality：匹配立体化学信息，默认False<br />"
   ]
  },
  {
   "cell_type": "code",
   "execution_count": 2,
   "metadata": {},
   "outputs": [
    {
     "data": {
      "text/plain": [
       "True"
      ]
     },
     "execution_count": 2,
     "metadata": {},
     "output_type": "execute_result"
    }
   ],
   "source": [
    "mol.HasSubstructMatch(patt)"
   ]
  },
  {
   "cell_type": "markdown",
   "metadata": {},
   "source": [
    "## 2.搜索并返回子结构\n",
    "* 返回匹配子结构：GetSubstructMatch(query, useChirality, ...)<br />\n",
    "参数类似上面的函数<br />\n",
    "该函数只返回一个匹配的结构。返回值是一个整数元组<br />\n",
    "整数元组的每一位，依次对应SMARTS中的每个原子，每一位上的整数，代表原始分子中匹配的原子索引"
   ]
  },
  {
   "cell_type": "code",
   "execution_count": 3,
   "metadata": {},
   "outputs": [
    {
     "name": "stdout",
     "output_type": "stream",
     "text": [
      "(0, 1, 8, 9)\n"
     ]
    }
   ],
   "source": [
    "hit_at = mol.GetSubstructMatch(patt)\n",
    "print(hit_at)"
   ]
  },
  {
   "cell_type": "markdown",
   "metadata": {},
   "source": [
    "* 查看该子结构：MolFragmentToSmiles<br />\n",
    "这只不过是一句正确的废话，根据SMRATS查询，返回的肯定是对应的结构了"
   ]
  },
  {
   "cell_type": "code",
   "execution_count": 5,
   "metadata": {},
   "outputs": [
    {
     "name": "stdout",
     "output_type": "stream",
     "text": [
      "ClccO\n",
      "OccCl\n"
     ]
    }
   ],
   "source": [
    "print(Chem.MolFragmentToSmiles(mol, atomsToUse=hit_at, rootedAtAtom=0))\n",
    "print(Chem.MolFragmentToSmiles(mol, atomsToUse=hit_at, rootedAtAtom=9))"
   ]
  },
  {
   "cell_type": "markdown",
   "metadata": {},
   "source": [
    "## 3.获取匹配的原子和索引\n",
    "* 创建hit_bond接收匹配上的键\n",
    "* 遍历patt中的键：patt.GetBonds()\n",
    "* 获取键两端的原子索引：bond.GetBeginAtomIdx()\n",
    "* 通过hit_at映射，得到原始分子中对应的键：GetBondBetweenAtoms(aid1, aid2)\n",
    "* 获取键索引：Bond.GetIdx()"
   ]
  },
  {
   "cell_type": "code",
   "execution_count": 12,
   "metadata": {},
   "outputs": [
    {
     "data": {
      "text/plain": [
       "[0, 9, 8]"
      ]
     },
     "execution_count": 12,
     "metadata": {},
     "output_type": "execute_result"
    }
   ],
   "source": [
    "hit_bond = []\n",
    "for bond in patt.GetBonds():\n",
    "    aid1 = hit_at[bond.GetBeginAtomIdx()]\n",
    "    aid2 = hit_at[bond.GetEndAtomIdx()]\n",
    "    hit_bond.append(mol.GetBondBetweenAtoms(aid1, aid2).GetIdx())\n",
    "hit_bond"
   ]
  },
  {
   "cell_type": "markdown",
   "metadata": {},
   "source": [
    "## 4.绘制子结构\n",
    "* 创建一个画板：MolDraw2DSVG，或MolDraw2DCairo\n",
    "* 在画板中绘制：PrepareAndDrawMolecule(drawer, mol, highlightAtoms, highlightBonds, confId,...)<br />\n",
    "drawer：画板<br />\n",
    "mol：mol对象<br />\n",
    "highlightAtoms/Bonds：高亮的原子/键<br />\n",
    "confID：绘制的第几个构象\n",
    "* 保存png图片：WriteDrawingText()"
   ]
  },
  {
   "cell_type": "code",
   "execution_count": 14,
   "metadata": {},
   "outputs": [],
   "source": [
    "d = rdMolDraw2D.MolDraw2DCairo(500, 500)\n",
    "rdMolDraw2D.PrepareAndDrawMolecule(d, mol, highlightAtoms=list(hit_at), \n",
    "                                   highlightBonds=hit_bond)\n",
    "\n",
    "d.FinishDrawing()\n",
    "d.WriteDrawingText('data/sigle_highlighted.png')"
   ]
  },
  {
   "cell_type": "code",
   "execution_count": 15,
   "metadata": {},
   "outputs": [
    {
     "data": {
      "image/png": "[encoded data removed]",
      "text/plain": [
       "<IPython.core.display.Image object>"
      ]
     },
     "execution_count": 15,
     "metadata": {
      "image/png": {
       "height": 150,
       "width": 150
      }
     },
     "output_type": "execute_result"
    }
   ],
   "source": [
    "from IPython.display import Image\n",
    "Image(filename = 'data/sigle_highlighted.png', width=150, height=150)"
   ]
  },
  {
   "cell_type": "markdown",
   "metadata": {},
   "source": [
    "# 高亮展示多个匹配子结构"
   ]
  },
  {
   "cell_type": "markdown",
   "metadata": {},
   "source": [
    "* 和上面流程一样，先初始化mol和patt"
   ]
  },
  {
   "cell_type": "code",
   "execution_count": 13,
   "metadata": {},
   "outputs": [],
   "source": [
    "mol = Chem.MolFromSmiles('Clc1c(Cl)c(O)ccc1O')\n",
    "patt = Chem.MolFromSmarts('ClccO')"
   ]
  },
  {
   "cell_type": "markdown",
   "metadata": {},
   "source": [
    "## 1.搜索并返回所有子结构\n",
    "* 返回所有所有子结构：GetSubstructMatches(query, uniquify, useChirality, maxMatches, ...)<br />\n",
    "uniquify：检测是否唯一<br />\n",
    "maxMatches：返回的最大匹配的子结构数量"
   ]
  },
  {
   "cell_type": "code",
   "execution_count": 17,
   "metadata": {},
   "outputs": [
    {
     "name": "stdout",
     "output_type": "stream",
     "text": [
      "((0, 1, 8, 9), (3, 2, 4, 5))\n"
     ]
    }
   ],
   "source": [
    "hit_ats = mol.GetSubstructMatches(patt)\n",
    "print(hit_ats)"
   ]
  },
  {
   "cell_type": "markdown",
   "metadata": {},
   "source": [
    "## 2.获取匹配的原子和索引\n",
    "* 思路和上面基本一致，获取所有匹配的键"
   ]
  },
  {
   "cell_type": "code",
   "execution_count": 18,
   "metadata": {},
   "outputs": [
    {
     "name": "stdout",
     "output_type": "stream",
     "text": [
      "[[0, 9, 8], [2, 3, 4]]\n"
     ]
    }
   ],
   "source": [
    "bond_lists = []\n",
    "for i, hit_at in enumerate(hit_ats):\n",
    "    hit_at = list(hit_at)\n",
    "    bond_list = []\n",
    "    for bond in patt.GetBonds():\n",
    "        a1 = hit_at[bond.GetBeginAtomIdx()]\n",
    "        a2 = hit_at[bond.GetEndAtomIdx()]\n",
    "        bond_list.append(mol.GetBondBetweenAtoms(a1, a2).GetIdx())\n",
    "    bond_lists.append(bond_list)\n",
    "print(bond_lists)"
   ]
  },
  {
   "cell_type": "markdown",
   "metadata": {},
   "source": [
    "## 3.设置原子和键的颜色\n",
    "* 使用不同颜色绘制不同的匹配结构<br />\n",
    "创建颜色的列表colours，列表中的每个元组代表（红绿蓝）的色彩信息<br />\n",
    "创建原子字典atom_cols，键为原子索引，值为色彩信息<br />\n",
    "同上创建键的字典bond_cols<br />\n",
    "并将原子和键汇总到atom_list和bond_list中"
   ]
  },
  {
   "cell_type": "code",
   "execution_count": 19,
   "metadata": {},
   "outputs": [
    {
     "data": {
      "text/plain": [
       "{0: (1, 0, 0),\n",
       " 1: (1, 0, 0),\n",
       " 8: (1, 0, 0),\n",
       " 9: (1, 0, 0),\n",
       " 3: (0, 1, 0),\n",
       " 2: (0, 1, 0),\n",
       " 4: (0, 1, 0),\n",
       " 5: (0, 1, 0)}"
      ]
     },
     "execution_count": 19,
     "metadata": {},
     "output_type": "execute_result"
    }
   ],
   "source": [
    "colours = [(1, 0, 0), (0, 1, 0), (0, 0, 1)]\n",
    "atom_cols = {}\n",
    "bond_cols = {}\n",
    "atom_list = []\n",
    "bond_list = []\n",
    "for i, (hit_atom, hit_bond) in enumerate(zip(hit_ats, bond_lists)):\n",
    "    hit_atom = list(hit_atom)\n",
    "    for at in hit_atom:\n",
    "        atom_cols[at] = colours[i%3]\n",
    "        atom_list.append(at)\n",
    "    for bd in hit_bond:\n",
    "        bond_cols[bd] = colours[i%3]\n",
    "        bond_list.append(bd)\n",
    "atom_cols"
   ]
  },
  {
   "cell_type": "code",
   "execution_count": 20,
   "metadata": {},
   "outputs": [
    {
     "data": {
      "text/plain": [
       "{0: (1, 0, 0),\n",
       " 9: (1, 0, 0),\n",
       " 8: (1, 0, 0),\n",
       " 2: (0, 1, 0),\n",
       " 3: (0, 1, 0),\n",
       " 4: (0, 1, 0)}"
      ]
     },
     "execution_count": 20,
     "metadata": {},
     "output_type": "execute_result"
    }
   ],
   "source": [
    "bond_cols"
   ]
  },
  {
   "cell_type": "markdown",
   "metadata": {},
   "source": [
    "## 4.绘制多个子结构\n",
    "* 创建画板：MolDraw2DSVG，或MolDraw2DCairo\n",
    "* 在画板中绘制：PrepareAndDrawMolecule(drawer, mol, highlightAtoms, highlightBonds, highlightAtomColors, highlightBondColors, confId,...)\n",
    "\n",
    "highlightAtoms/Bonds：高亮原子/键\n",
    "\n",
    "highlightAtom/BondColors：显示的颜色\n",
    "* 保存png图片：WriteDrawingText('test1.png')"
   ]
  },
  {
   "cell_type": "code",
   "execution_count": 21,
   "metadata": {},
   "outputs": [],
   "source": [
    "d = rdMolDraw2D.MolDraw2DCairo(500, 500)\n",
    "rdMolDraw2D.PrepareAndDrawMolecule(d, mol, highlightAtoms=atom_list,\n",
    "                                   highlightAtomColors=atom_cols,\n",
    "                                   highlightBonds=bond_list,\n",
    "                                   highlightBondColors=bond_cols)\n",
    "with open('data/multi_highlighted.png', 'wb') as f:\n",
    "    f.write(d.GetDrawingText())"
   ]
  },
  {
   "cell_type": "markdown",
   "metadata": {},
   "source": [
    "* 展示一下"
   ]
  },
  {
   "cell_type": "code",
   "execution_count": 22,
   "metadata": {},
   "outputs": [
    {
     "data": {
      "image/png": "[encoded data removed]",
      "text/plain": [
       "<IPython.core.display.Image object>"
      ]
     },
     "execution_count": 22,
     "metadata": {
      "image/png": {
       "height": 150,
       "width": 150
      }
     },
     "output_type": "execute_result"
    }
   ],
   "source": [
    "from IPython.display import Image\n",
    "Image(filename = 'data/multi_highlighted.png', width=150, height=150)"
   ]
  }
 ],
 "metadata": {
  "kernelspec": {
   "display_name": "Python 3",
   "language": "python",
   "name": "python3"
  },
  "language_info": {
   "codemirror_mode": {
    "name": "ipython",
    "version": 3
   },
   "file_extension": ".py",
   "mimetype": "text/x-python",
   "name": "python",
   "nbconvert_exporter": "python",
   "pygments_lexer": "ipython3",
   "version": "3.7.4"
  },
  "toc-autonumbering": false
 },
 "nbformat": 4,
 "nbformat_minor": 4
}
