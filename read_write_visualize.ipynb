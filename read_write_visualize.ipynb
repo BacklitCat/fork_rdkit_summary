{
 "cells": [
  {
   "cell_type": "markdown",
   "metadata": {},
   "source": [
    "参考文档：http://rdkit.org/docs/source/rdkit.Chem.rdmolfiles.html"
   ]
  },
  {
   "cell_type": "code",
   "execution_count": 1,
   "metadata": {},
   "outputs": [],
   "source": [
    "import pandas as pd\n",
    "from rdkit import Chem\n",
    "from rdkit.Chem import Draw\n",
    "from rdkit.Chem import AllChem\n",
    "from rdkit.Chem import Descriptors\n",
    "from rdkit.Chem import PandasTools\n",
    "import gzip\n",
    "import warnings"
   ]
  },
  {
   "cell_type": "markdown",
   "metadata": {},
   "source": [
    "# 读取分子"
   ]
  },
  {
   "cell_type": "markdown",
   "metadata": {},
   "source": [
    "## 读SMILES/SMARTS"
   ]
  },
  {
   "cell_type": "markdown",
   "metadata": {},
   "source": [
    "### 单个读取"
   ]
  },
  {
   "cell_type": "markdown",
   "metadata": {},
   "source": [
    "* 从SMILES/SMARTS直接读取"
   ]
  },
  {
   "cell_type": "code",
   "execution_count": 16,
   "metadata": {},
   "outputs": [],
   "source": [
    "m = Chem.MolFromSmiles('C[C@H](O)c1ccccc1')\n",
    "m = Chem.MolFromSmarts('Cc1ccccc1')"
   ]
  },
  {
   "cell_type": "markdown",
   "metadata": {},
   "source": [
    "### 文件批量读取"
   ]
  },
  {
   "cell_type": "markdown",
   "metadata": {},
   "source": [
    "* 从.smi批量读取：SmilesMolSupplier(data, delimiter, smilesColumn, nameColumn, titleLine, sanitize)<br />\n",
    "data：数据文件<br />\n",
    "delimiter：分隔符，默认为' '<br />\n",
    "smilesColumn：SMILES所在列，默认为0<br />\n",
    "nameColumn：SMILES名称所在列，默认为1<br />\n",
    "titleLine：是否含有标题行<br />\n",
    "sanitize：是否检查正确性"
   ]
  },
  {
   "cell_type": "code",
   "execution_count": 17,
   "metadata": {},
   "outputs": [
    {
     "name": "stdout",
     "output_type": "stream",
     "text": [
      "['C1=CC=CC=CC=C1', 'c1ccccc1', 'c1ccoc1']\n"
     ]
    }
   ],
   "source": [
    "suppl = Chem.SmilesMolSupplier('data/batch_smiles.smi', delimiter='\\t')\n",
    "mols = [Chem.MolToSmiles(mol) for mol in suppl]\n",
    "print(mols)"
   ]
  },
  {
   "cell_type": "markdown",
   "metadata": {},
   "source": [
    "### 文本批量读取"
   ]
  },
  {
   "cell_type": "markdown",
   "metadata": {},
   "source": [
    "* 从文本批量读取SmilesMolSupplierFromText()<br />\n",
    "参数基本同上"
   ]
  },
  {
   "cell_type": "code",
   "execution_count": 18,
   "metadata": {},
   "outputs": [
    {
     "name": "stdout",
     "output_type": "stream",
     "text": [
      "mols_text:\n",
      " SMILES\tmol_id\tLOGP\tMW\n",
      "C1=CC=CC=CC=C1\tNo_0\t2.22\t104.06\n",
      "c1ccccc1\tNo_1\t1.69\t78.05\n",
      "c1cocc1\tNo_2\t1.28\t68.03\n",
      "\n",
      "mols_list:\n",
      " ['C1=CC=CC=CC=C1', 'c1ccccc1', 'c1ccoc1']\n"
     ]
    }
   ],
   "source": [
    "with open('data/batch_smiles.smi', 'r') as f:\n",
    "    mols_text = f.read()\n",
    "print('mols_text:\\n', mols_text)\n",
    "suppl = Chem.SmilesMolSupplierFromText(mols_text, delimiter='\\t')\n",
    "mols = [Chem.MolToSmiles(mol) for mol in suppl]\n",
    "print('mols_list:\\n', mols)"
   ]
  },
  {
   "cell_type": "markdown",
   "metadata": {},
   "source": [
    "### DataFrame批量读取"
   ]
  },
  {
   "cell_type": "markdown",
   "metadata": {},
   "source": [
    "* 读取DataFrame中的SMILES：PandasTools.AddMoleculeColumnToFrame(frame, smilesCol, molCol, includeFingerprints)<br />\n",
    "frame：DataFrame对象<br />\n",
    "smilesCol：SMILES所在列<br />\n",
    "molCol：新列名，将存放产生的rdkit mol对象<br />\n",
    "includeFingerprints：是否包含指纹"
   ]
  },
  {
   "cell_type": "code",
   "execution_count": 19,
   "metadata": {},
   "outputs": [
    {
     "data": {
      "text/html": [
       "<div>\n",
       "<style scoped>\n",
       "    .dataframe tbody tr th:only-of-type {\n",
       "        vertical-align: middle;\n",
       "    }\n",
       "\n",
       "    .dataframe tbody tr th {\n",
       "        vertical-align: top;\n",
       "    }\n",
       "\n",
       "    .dataframe thead th {\n",
       "        text-align: right;\n",
       "    }\n",
       "</style>\n",
       "<table border=\"1\" class=\"dataframe\">\n",
       "  <thead>\n",
       "    <tr style=\"text-align: right;\">\n",
       "      <th></th>\n",
       "      <th>Name</th>\n",
       "      <th>SMILES</th>\n",
       "      <th>mol</th>\n",
       "      <th>MW</th>\n",
       "    </tr>\n",
       "  </thead>\n",
       "  <tbody>\n",
       "    <tr>\n",
       "      <td>0</td>\n",
       "      <td>Lanreotide</td>\n",
       "      <td>c1(c2c(cccc2)[nH]c1)C[C@@H]1NC(=O)[C@@H](Cc2cc...</td>\n",
       "      <td><img data-content=\"rdkit/molecule\" src=\"data:image/png;base64,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\" alt=\"Mol\"/></td>\n",
       "      <td>1096.347</td>\n",
       "    </tr>\n",
       "    <tr>\n",
       "      <td>1</td>\n",
       "      <td>Lansoprazole</td>\n",
       "      <td>Cc1c(OCC(F)(F)F)ccnc1CS(=O)c2nc3ccccc3[nH]2</td>\n",
       "      <td><img data-content=\"rdkit/molecule\" src=\"data:image/png;base64,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\" alt=\"Mol\"/></td>\n",
       "      <td>369.368</td>\n",
       "    </tr>\n",
       "  </tbody>\n",
       "</table>\n",
       "</div>"
      ],
      "text/plain": [
       "           Name                                             SMILES  \\\n",
       "0    Lanreotide  c1(c2c(cccc2)[nH]c1)C[C@@H]1NC(=O)[C@@H](Cc2cc...   \n",
       "1  Lansoprazole        Cc1c(OCC(F)(F)F)ccnc1CS(=O)c2nc3ccccc3[nH]2   \n",
       "\n",
       "                                                 mol        MW  \n",
       "0  <img data-content=\"rdkit/molecule\" src=\"data:i...  1096.347  \n",
       "1  <img data-content=\"rdkit/molecule\" src=\"data:i...   369.368  "
      ]
     },
     "execution_count": 19,
     "metadata": {},
     "output_type": "execute_result"
    }
   ],
   "source": [
    "df = pd.read_csv('data/smiles_df.csv')\n",
    "PandasTools.AddMoleculeColumnToFrame(df,'SMILES','mol',includeFingerprints=True)\n",
    "df['MW'] = df['mol'].apply(Descriptors.MolWt)\n",
    "df.head(2)"
   ]
  },
  {
   "cell_type": "markdown",
   "metadata": {},
   "source": [
    "## 读.sdf"
   ]
  },
  {
   "cell_type": "markdown",
   "metadata": {},
   "source": [
    "### 文件批量读取"
   ]
  },
  {
   "cell_type": "markdown",
   "metadata": {},
   "source": [
    "* 从.sdf里批量读取"
   ]
  },
  {
   "cell_type": "code",
   "execution_count": 20,
   "metadata": {},
   "outputs": [
    {
     "name": "stdout",
     "output_type": "stream",
     "text": [
      "['C1=C\\\\C=C/C=C\\\\C=C/1', 'c1ccccc1', 'c1ccoc1']\n"
     ]
    }
   ],
   "source": [
    "suppl = Chem.SDMolSupplier('data/batch.sdf')\n",
    "mols = [Chem.MolToSmiles(mol) for mol in suppl if mol]\n",
    "print(mols)"
   ]
  },
  {
   "cell_type": "markdown",
   "metadata": {},
   "source": [
    "### 压缩包批量读取"
   ]
  },
  {
   "cell_type": "markdown",
   "metadata": {},
   "source": [
    "* 从file object/.gz里读取"
   ]
  },
  {
   "cell_type": "code",
   "execution_count": 21,
   "metadata": {},
   "outputs": [
    {
     "name": "stdout",
     "output_type": "stream",
     "text": [
      "['C1=C\\\\C=C/C=C\\\\C=C/1', 'c1ccccc1', 'c1ccoc1']\n"
     ]
    }
   ],
   "source": [
    "gz_file = gzip.open('data/batch.sdf.gz', 'r')\n",
    "suppl = Chem.ForwardSDMolSupplier(gz_file)\n",
    "mols = [Chem.MolToSmiles(mol) for mol in suppl if mol]\n",
    "print(mols)\n",
    "f.close()"
   ]
  },
  {
   "cell_type": "markdown",
   "metadata": {},
   "source": [
    "## 读.mol"
   ]
  },
  {
   "cell_type": "markdown",
   "metadata": {},
   "source": [
    "* 从.mol里读取"
   ]
  },
  {
   "cell_type": "code",
   "execution_count": 22,
   "metadata": {},
   "outputs": [
    {
     "name": "stdout",
     "output_type": "stream",
     "text": [
      "c1cocc1\n"
     ]
    }
   ],
   "source": [
    "m = Chem.MolFromMolFile('data/output.mol')\n",
    "print(Chem.MolToSmiles(mol))"
   ]
  },
  {
   "cell_type": "markdown",
   "metadata": {},
   "source": [
    "## 读.mol2<br />\n",
    "不推荐，容易出bug"
   ]
  },
  {
   "cell_type": "markdown",
   "metadata": {},
   "source": [
    "* 从.mol2里读取"
   ]
  },
  {
   "cell_type": "code",
   "execution_count": 23,
   "metadata": {},
   "outputs": [
    {
     "name": "stdout",
     "output_type": "stream",
     "text": [
      "[C]1[C][C][C]1\n"
     ]
    }
   ],
   "source": [
    "m = Chem.MolFromMol2File('data/output.mol2')\n",
    "print(Chem.MolToSmiles(m))"
   ]
  },
  {
   "cell_type": "markdown",
   "metadata": {},
   "source": [
    "## 读其他格式：pdb, fasta, ...\n",
    "其他格式大同小异，不再赘述了，感兴趣可自己尝试"
   ]
  },
  {
   "cell_type": "markdown",
   "metadata": {},
   "source": [
    "* 从.pdb里读取"
   ]
  },
  {
   "cell_type": "code",
   "execution_count": null,
   "metadata": {},
   "outputs": [],
   "source": [
    "Chem.MolFromPDBFile()\n",
    "Chem.MolFromPDBBlock()"
   ]
  },
  {
   "cell_type": "markdown",
   "metadata": {},
   "source": [
    "* 读.fasta"
   ]
  },
  {
   "cell_type": "code",
   "execution_count": null,
   "metadata": {},
   "outputs": [],
   "source": [
    "Chem.MolFromFASTA()"
   ]
  },
  {
   "cell_type": "markdown",
   "metadata": {},
   "source": [
    "* 读peptide"
   ]
  },
  {
   "cell_type": "code",
   "execution_count": null,
   "metadata": {},
   "outputs": [],
   "source": [
    "Chem.MolFromSequence()"
   ]
  },
  {
   "cell_type": "markdown",
   "metadata": {},
   "source": [
    "# 输出分子"
   ]
  },
  {
   "cell_type": "markdown",
   "metadata": {},
   "source": [
    "## 输出SMILES/SMARTS"
   ]
  },
  {
   "cell_type": "markdown",
   "metadata": {},
   "source": [
    "### 输出默认式"
   ]
  },
  {
   "cell_type": "markdown",
   "metadata": {},
   "source": [
    "* 输出SMILES：MolToSmiles(mol, isomericSmiles, kekuleSmiles, canonical, ...)<br />\n",
    "kekuleSmiles：默认False，不使用kekule时：脂肪族碳用\"C\"表示（大写），芳香族用\"c\"表示（小写）<br />\n",
    "isomericSmiles：默认True，区分同分异构体（\"@\"表示手性，\"\\\"和\"/\"顺反异构）<br />\n",
    "canonical：默认True，输出标准SMILES <br />"
   ]
  },
  {
   "cell_type": "code",
   "execution_count": 2,
   "metadata": {},
   "outputs": [
    {
     "name": "stdout",
     "output_type": "stream",
     "text": [
      "['C1=CC=CC=CC=C1', 'c1ccccc1', 'c1ccoc1']\n"
     ]
    }
   ],
   "source": [
    "m1 = Chem.MolFromSmiles('C1=CC=CC=CC=C1')\n",
    "m2 = Chem.MolFromSmiles('C1=CC=CC=C1')\n",
    "m3 = Chem.MolFromSmiles('C1=COC=C1')\n",
    "mols = [m1, m2, m3]\n",
    "print([Chem.MolToSmiles(mol) for mol in mols])"
   ]
  },
  {
   "cell_type": "markdown",
   "metadata": {},
   "source": [
    "### 输出kekule式"
   ]
  },
  {
   "cell_type": "markdown",
   "metadata": {},
   "source": [
    "* 输出kekule形式<br />\n",
    "kekule形式：在符合4N+2规则的芳香体系中，通过使用双键代替小写的碳原子来表示芳香性<br />\n",
    "4N+2规则：也叫Hueckel规则，在闭环共轭体系中，当π电子数为4n+2时，才具有芳香性<br />\n",
    "注：m1有共轭结构，但不属于芳香系统。m3中氧提供了2个π电子，碳各提供1个，总数为6，属于芳香系统"
   ]
  },
  {
   "cell_type": "code",
   "execution_count": 3,
   "metadata": {},
   "outputs": [
    {
     "name": "stdout",
     "output_type": "stream",
     "text": [
      "['C1=CC=CC=CC=C1', 'C1=CC=CC=C1', 'C1=COC=C1']\n"
     ]
    }
   ],
   "source": [
    "for mol in mols:\n",
    "    Chem.Kekulize(mol)\n",
    "print([Chem.MolToSmiles(mol, kekuleSmiles=True) for mol in mols])"
   ]
  },
  {
   "cell_type": "markdown",
   "metadata": {},
   "source": [
    "### 设置立体参数"
   ]
  },
  {
   "cell_type": "markdown",
   "metadata": {},
   "source": [
    "* 不区分同分异构体<br />\n",
    "通过isomericSmiles控制"
   ]
  },
  {
   "cell_type": "code",
   "execution_count": 4,
   "metadata": {},
   "outputs": [
    {
     "name": "stdout",
     "output_type": "stream",
     "text": [
      "C[C@H](O)c1ccccc1\n",
      "CC(O)c1ccccc1\n"
     ]
    }
   ],
   "source": [
    "m4 = Chem.MolFromSmiles('C[C@H](O)c1ccccc1')\n",
    "print(Chem.MolToSmiles(m4))\n",
    "print(Chem.MolToSmiles(m4, isomericSmiles=False))"
   ]
  },
  {
   "cell_type": "markdown",
   "metadata": {},
   "source": [
    "### 批量输出SMILES"
   ]
  },
  {
   "cell_type": "markdown",
   "metadata": {},
   "source": [
    "* 批量输出SMILES：SmilesWriter(fileName, delimiter, includeHeader, nameHeader, isomericSmiles, kekuleSmiles) <br />\n",
    "fileName：输出文件名<br />\n",
    "delimiter：分隔符，默认为' '<br />\n",
    "includeHeader：是否写入表头，默认True<br />\n",
    "nameHeader：分子名一列的列名，默认'Name'<br />\n",
    "isomericSmiles：立体信息，默认True<br />\n",
    "kekuleSmiles：kekule形式，默认False"
   ]
  },
  {
   "cell_type": "code",
   "execution_count": 5,
   "metadata": {},
   "outputs": [],
   "source": [
    "writer = Chem.SmilesWriter('data/batch.smi', delimiter='\\t')\n",
    "for i, mol in enumerate(mols):\n",
    "    writer.write(mol)\n",
    "writer.close()"
   ]
  },
  {
   "cell_type": "code",
   "execution_count": 6,
   "metadata": {},
   "outputs": [
    {
     "data": {
      "text/plain": [
       "SMILES\tName\t\n",
       "C1=CC=CC=CC=C1\t0\n",
       "c1ccccc1\t1\n",
       "c1cocc1\t2\n"
      ]
     },
     "metadata": {},
     "output_type": "display_data"
    }
   ],
   "source": [
    "%more data/batch.smi"
   ]
  },
  {
   "cell_type": "markdown",
   "metadata": {},
   "source": [
    "### 批量输出SMILES和属性"
   ]
  },
  {
   "cell_type": "markdown",
   "metadata": {},
   "source": [
    "* 批量输出SMILES及属性，通过以下函数进行操作：<br />\n",
    "mol.GetPropNames()，查看分子属性列表<br />\n",
    "mol.GetProp()，获取相应属性<br />\n",
    "mol.SetProp(key, val)，新增属性名key、对应属性值val<br />\n",
    "writer.SetProps()，设置哪些属性要输出\n",
    "\n",
    "* 以输出分子量和LogP为例<br />\n",
    "使用Descriptors计算属性，并添加"
   ]
  },
  {
   "cell_type": "code",
   "execution_count": 7,
   "metadata": {},
   "outputs": [
    {
     "name": "stdout",
     "output_type": "stream",
     "text": [
      "number of mols: 3\n",
      "mol properties: ['MW', 'LOGP']\n"
     ]
    }
   ],
   "source": [
    "writer = Chem.SmilesWriter('data/batch_smiles.smi', delimiter='\\t', nameHeader='mol_id')\n",
    "writer.SetProps(['LOGP', 'MW'])\n",
    "for i, mol in enumerate(mols):\n",
    "    mw = Descriptors.ExactMolWt(mol)\n",
    "    logp = Descriptors.MolLogP(mol)\n",
    "    mol.SetProp('MW', '%.2f' %(mw))\n",
    "    mol.SetProp('LOGP', '%.2f' %(logp))\n",
    "    mol.SetProp('_Name', 'No_%s' %(i))\n",
    "    writer.write(mol)\n",
    "writer.close()\n",
    "print('number of mols:', writer.NumMols())\n",
    "print('mol properties:', [i for i in mol.GetPropNames()])"
   ]
  },
  {
   "cell_type": "code",
   "execution_count": 8,
   "metadata": {},
   "outputs": [
    {
     "data": {
      "text/plain": [
       "SMILES\tmol_id\tLOGP\tMW\n",
       "C1=CC=CC=CC=C1\tNo_0\t2.22\t104.06\n",
       "c1ccccc1\tNo_1\t1.69\t78.05\n",
       "c1cocc1\tNo_2\t1.28\t68.03\n"
      ]
     },
     "metadata": {},
     "output_type": "display_data"
    }
   ],
   "source": [
    "%more data/batch_smiles.smi"
   ]
  },
  {
   "cell_type": "markdown",
   "metadata": {},
   "source": [
    "### 输出SMARTS"
   ]
  },
  {
   "cell_type": "markdown",
   "metadata": {},
   "source": [
    "* 输出SMARTS：MolToSmarts()<br />"
   ]
  },
  {
   "cell_type": "code",
   "execution_count": 9,
   "metadata": {},
   "outputs": [
    {
     "data": {
      "text/plain": [
       "'[#6]1:[#6]:[#8]:[#6]:[#6]:1'"
      ]
     },
     "execution_count": 9,
     "metadata": {},
     "output_type": "execute_result"
    }
   ],
   "source": [
    "Chem.MolToSmarts(m3, isomericSmiles=True)"
   ]
  },
  {
   "cell_type": "markdown",
   "metadata": {},
   "source": [
    "## 输出.sdf"
   ]
  },
  {
   "cell_type": "markdown",
   "metadata": {},
   "source": [
    "### 批量输出到.sdf"
   ]
  },
  {
   "cell_type": "markdown",
   "metadata": {},
   "source": [
    "* 批量输出到文件：SDWriter()<br />\n",
    "使用方法类似于SMILES的批量输出<br />\n",
    "可以自定义属性信息，并记录在.sdf文件中"
   ]
  },
  {
   "cell_type": "code",
   "execution_count": 10,
   "metadata": {},
   "outputs": [],
   "source": [
    "writer = Chem.SDWriter('data/batch.sdf')\n",
    "writer.SetProps(['LOGP', 'MW'])\n",
    "for i, mol in enumerate(mols):\n",
    "    mw = Descriptors.ExactMolWt(mol)\n",
    "    logp = Descriptors.MolLogP(mol)\n",
    "    mol.SetProp('MW', '%.2f' %(mw))\n",
    "    mol.SetProp('LOGP', '%.2f' %(logp))\n",
    "    mol.SetProp('_Name', 'No_%s' %(i))\n",
    "    writer.write(mol)\n",
    "writer.close()"
   ]
  },
  {
   "cell_type": "code",
   "execution_count": 11,
   "metadata": {},
   "outputs": [
    {
     "data": {
      "text/plain": [
       "No_0\n",
       "     RDKit          2D\n",
       "\n",
       "  8  8  0  0  0  0  0  0  0  0999 V2000\n",
       "    1.9598    0.0000    0.0000 C   0  0  0  0  0  0  0  0  0  0  0  0\n",
       "    1.3858   -1.3858    0.0000 C   0  0  0  0  0  0  0  0  0  0  0  0\n",
       "   -0.0000   -1.9598    0.0000 C   0  0  0  0  0  0  0  0  0  0  0  0\n",
       "   -1.3858   -1.3858    0.0000 C   0  0  0  0  0  0  0  0  0  0  0  0\n",
       "   -1.9598    0.0000    0.0000 C   0  0  0  0  0  0  0  0  0  0  0  0\n",
       "   -1.3858    1.3858    0.0000 C   0  0  0  0  0  0  0  0  0  0  0  0\n",
       "    0.0000    1.9598    0.0000 C   0  0  0  0  0  0  0  0  0  0  0  0\n",
       "    1.3858    1.3858    0.0000 C   0  0  0  0  0  0  0  0  0  0  0  0\n",
       "  1  2  2  0\n",
       "  2  3  1  0\n",
       "  3  4  2  0\n",
       "  4  5  1  0\n",
       "  5  6  2  0\n",
       "  6  7  1  0\n",
       "  7  8  2  0\n",
       "  8  1  1  0\n",
       "M  END\n",
       ">  <LOGP>  (1) \n",
       "2.22\n",
       "\n",
       ">  <MW>  (1) \n",
       "104.06\n",
       "\n",
       "$$$$\n",
       "No_1\n",
       "     RDKit          2D\n",
       "\n",
       "  6  6  0  0  0  0  0  0  0  0999 V2000\n",
       "    1.5000    0.0000    0.0000 C   0  0  0  0  0  0  0  0  0  0  0  0\n",
       "    0.7500   -1.2990    0.0000 C   0  0  0  0  0  0  0  0  0  0  0  0\n",
       "   -0.7500   -1.2990    0.0000 C   0  0  0  0  0  0  0  0  0  0  0  0\n",
       "   -1.5000    0.0000    0.0000 C   0  0  0  0  0  0  0  0  0  0  0  0\n",
       "   -0.7500    1.2990    0.0000 C   0  0  0  0  0  0  0  0  0  0  0  0\n",
       "    0.7500    1.2990    0.0000 C   0  0  0  0  0  0  0  0  0  0  0  0\n",
       "  1  2  2  0\n",
       "  2  3  1  0\n",
       "  3  4  2  0\n",
       "  4  5  1  0\n",
       "  5  6  2  0\n",
       "  6  1  1  0\n",
       "M  END\n",
       ">  <LOGP>  (2) \n",
       "1.69\n",
       "\n",
       ">  <MW>  (2) \n",
       "78.05\n",
       "\n",
       "$$$$\n",
       "No_2\n",
       "     RDKit          2D\n",
       "\n",
       "  5  5  0  0  0  0  0  0  0  0999 V2000\n",
       "    1.2760    0.0000    0.0000 C   0  0  0  0  0  0  0  0  0  0  0  0\n",
       "    0.3943    1.2135    0.0000 C   0  0  0  0  0  0  0  0  0  0  0  0\n",
       "   -1.0323    0.7500    0.0000 O   0  0  0  0  0  0  0  0  0  0  0  0\n",
       "   -1.0323   -0.7500    0.0000 C   0  0  0  0  0  0  0  0  0  0  0  0\n",
       "    0.3943   -1.2135    0.0000 C   0  0  0  0  0  0  0  0  0  0  0  0\n",
       "  1  2  2  0\n",
       "  2  3  1  0\n",
       "  3  4  1  0\n",
       "  4  5  2  0\n",
       "  5  1  1  0\n",
       "M  END\n",
       ">  <LOGP>  (3) \n",
       "1.28\n",
       "\n",
       ">  <MW>  (3) \n",
       "68.03\n",
       "\n",
       "$$$$\n"
      ]
     },
     "metadata": {},
     "output_type": "display_data"
    }
   ],
   "source": [
    "%more data/batch.sdf"
   ]
  },
  {
   "cell_type": "markdown",
   "metadata": {},
   "source": [
    "### 批量输出到.gz"
   ]
  },
  {
   "cell_type": "markdown",
   "metadata": {},
   "source": [
    "* 批量输出到.gz<br />"
   ]
  },
  {
   "cell_type": "code",
   "execution_count": 12,
   "metadata": {},
   "outputs": [],
   "source": [
    "outf = gzip.open('data/batch.sdf.gz','wt+')\n",
    "writer = Chem.SDWriter(outf)\n",
    "for mol in mols:\n",
    "    writer.write(mol)\n",
    "writer.close()\n",
    "outf.close()"
   ]
  },
  {
   "cell_type": "markdown",
   "metadata": {},
   "source": [
    "## 输出.mol"
   ]
  },
  {
   "cell_type": "markdown",
   "metadata": {},
   "source": [
    "### 输出为连接表"
   ]
  },
  {
   "cell_type": "markdown",
   "metadata": {},
   "source": [
    "* 直接输出：MolToMolBlock()"
   ]
  },
  {
   "cell_type": "code",
   "execution_count": 13,
   "metadata": {},
   "outputs": [
    {
     "name": "stdout",
     "output_type": "stream",
     "text": [
      "\n",
      "     RDKit          2D\n",
      "\n",
      "  4  4  0  0  0  0  0  0  0  0999 V2000\n",
      "    1.0607    0.0000    0.0000 C   0  0  0  0  0  0  0  0  0  0  0  0\n",
      "   -0.0000   -1.0607    0.0000 C   0  0  0  0  0  0  0  0  0  0  0  0\n",
      "   -1.0607    0.0000    0.0000 C   0  0  0  0  0  0  0  0  0  0  0  0\n",
      "    0.0000    1.0607    0.0000 C   0  0  0  0  0  0  0  0  0  0  0  0\n",
      "  1  2  1  0\n",
      "  2  3  1  0\n",
      "  3  4  1  0\n",
      "  4  1  1  0\n",
      "M  END\n",
      "\n"
     ]
    }
   ],
   "source": [
    "m1 = Chem.MolFromSmiles('C1CCC1')\n",
    "print(Chem.MolToMolBlock(m1))"
   ]
  },
  {
   "cell_type": "markdown",
   "metadata": {},
   "source": [
    "### 输出到.mol"
   ]
  },
  {
   "cell_type": "markdown",
   "metadata": {},
   "source": [
    "* 输出到文件：MolToMolFile(mol, filename, includeStereo, ...)<br />\n",
    "mol：mol对象<br />\n",
    "filename：文件名<br />\n",
    "includeStereo：立体信息，默认True<br />"
   ]
  },
  {
   "cell_type": "code",
   "execution_count": 14,
   "metadata": {},
   "outputs": [],
   "source": [
    "m1.SetProp('_Name', 'cyclobutane')\n",
    "Chem.MolToMolFile(m1, 'data/output.mol')"
   ]
  },
  {
   "cell_type": "code",
   "execution_count": 15,
   "metadata": {},
   "outputs": [
    {
     "data": {
      "text/plain": [
       "cyclobutane\n",
       "     RDKit          2D\n",
       "\n",
       "  4  4  0  0  0  0  0  0  0  0999 V2000\n",
       "    1.0607    0.0000    0.0000 C   0  0  0  0  0  0  0  0  0  0  0  0\n",
       "   -0.0000   -1.0607    0.0000 C   0  0  0  0  0  0  0  0  0  0  0  0\n",
       "   -1.0607    0.0000    0.0000 C   0  0  0  0  0  0  0  0  0  0  0  0\n",
       "    0.0000    1.0607    0.0000 C   0  0  0  0  0  0  0  0  0  0  0  0\n",
       "  1  2  1  0\n",
       "  2  3  1  0\n",
       "  3  4  1  0\n",
       "  4  1  1  0\n",
       "M  END\n"
      ]
     },
     "metadata": {},
     "output_type": "display_data"
    }
   ],
   "source": [
    "%more data/output.mol"
   ]
  },
  {
   "cell_type": "markdown",
   "metadata": {},
   "source": [
    "## 输出其他格式:pdb, fasta, xyz...\n",
    "其他一些格式，大同小异，不多赘述了，感兴趣的自己可以尝试下"
   ]
  },
  {
   "cell_type": "markdown",
   "metadata": {},
   "source": [
    "* 输出.pdb"
   ]
  },
  {
   "cell_type": "code",
   "execution_count": null,
   "metadata": {},
   "outputs": [],
   "source": [
    "Chem.MolToPDBBlock()\n",
    "Chem.MolToPDBFile()\n",
    "Chem.PDBWriter()"
   ]
  },
  {
   "cell_type": "markdown",
   "metadata": {},
   "source": [
    "* 输出.fasta"
   ]
  },
  {
   "cell_type": "code",
   "execution_count": null,
   "metadata": {},
   "outputs": [],
   "source": [
    "Chem.MolToFASTA()"
   ]
  },
  {
   "cell_type": "markdown",
   "metadata": {},
   "source": [
    "* 输出.xyz"
   ]
  },
  {
   "cell_type": "code",
   "execution_count": null,
   "metadata": {},
   "outputs": [],
   "source": [
    "Chem.MolToXYZBlock()\n",
    "Chem.MolToXYZFile()"
   ]
  },
  {
   "cell_type": "markdown",
   "metadata": {},
   "source": [
    "# 分子可视化"
   ]
  },
  {
   "cell_type": "markdown",
   "metadata": {},
   "source": [
    "## 单个展示"
   ]
  },
  {
   "cell_type": "markdown",
   "metadata": {},
   "source": [
    "* 从mol对象到图片：MolToImage(mol, size, kekulize, wedgeBonds, fitImage, ...)<br />\n",
    "mol：mol对象<br />\n",
    "size：图片尺寸，默认(300, 300)<br />\n",
    "kekulize：是否展示kekule形式，默认True（True：芳香系统用实线表示，False：虚线表示）<br />\n",
    "wedgeBonds：是否展示楔形键，即立体构型，默认True"
   ]
  },
  {
   "cell_type": "code",
   "execution_count": 24,
   "metadata": {},
   "outputs": [
    {
     "data": {
      "image/png": "[encoded data removed]",
      "text/plain": [
       "<PIL.PngImagePlugin.PngImageFile image mode=RGB size=150x150 at 0x9302188>"
      ]
     },
     "execution_count": 24,
     "metadata": {},
     "output_type": "execute_result"
    }
   ],
   "source": [
    "mol = Chem.MolFromSmiles('C[C@H](O)c1ccccc1')\n",
    "Draw.MolToImage(mol, size=(150,150), kekulize=True)"
   ]
  },
  {
   "cell_type": "markdown",
   "metadata": {},
   "source": [
    "* 在新窗口中展示图片：ShowMol()<br />\n",
    "参数基本同上"
   ]
  },
  {
   "cell_type": "code",
   "execution_count": 25,
   "metadata": {},
   "outputs": [],
   "source": [
    "Draw.ShowMol(mol, size=(150,150), kekulize=False)"
   ]
  },
  {
   "cell_type": "markdown",
   "metadata": {},
   "source": [
    "* 保存图片MolToFile(mol, filename, size, kekulize, wedgeBonds, ...)<br />\n",
    "参数基本同上"
   ]
  },
  {
   "cell_type": "code",
   "execution_count": 26,
   "metadata": {},
   "outputs": [],
   "source": [
    "Draw.MolToFile(mol, 'data/output.png', size=(150, 150))"
   ]
  },
  {
   "cell_type": "markdown",
   "metadata": {},
   "source": [
    "## 批量展示"
   ]
  },
  {
   "cell_type": "markdown",
   "metadata": {},
   "source": [
    "### 从DataFrame中展示"
   ]
  },
  {
   "cell_type": "markdown",
   "metadata": {},
   "source": [
    "* 从df中展示：FrameToGridImage(frame, column, molsPerRow, subImgSize, legendsCol, ...)<br />\n",
    "frame：DataFrame对象<br />\n",
    "column：rdkit mol对象所在列<br />\n",
    "molsPerRow,：每行显示的分子数<br />\n",
    "subImgSize：图片大小<br />\n",
    "legendsCol：标题所在列"
   ]
  },
  {
   "cell_type": "code",
   "execution_count": 27,
   "metadata": {},
   "outputs": [
    {
     "data": {
      "image/png": "[encoded data removed]",
      "text/plain": [
       "<PIL.PngImagePlugin.PngImageFile image mode=RGB size=1000x200 at 0x9600148>"
      ]
     },
     "execution_count": 27,
     "metadata": {},
     "output_type": "execute_result"
    }
   ],
   "source": [
    "df = pd.read_csv('data/smiles_df.csv')\n",
    "PandasTools.AddMoleculeColumnToFrame(df,'SMILES','mol',includeFingerprints=True)\n",
    "PandasTools.FrameToGridImage(df, column='mol', molsPerRow=5, subImgSize=(200,200), legendsCol='Name')"
   ]
  },
  {
   "cell_type": "markdown",
   "metadata": {},
   "source": [
    "### 从mol列表中展示"
   ]
  },
  {
   "cell_type": "markdown",
   "metadata": {},
   "source": [
    "* 从列表生成分子结构：MolsToGridImage(mols, maxMols, molsPerRow, subImgSize, legends, ...)<br />\n",
    "部分参数和上面的一致<br />\n",
    "mols：mol对象列表<br />\n",
    "maxMols：最多显示的分子数 <br />\n",
    "molsPerRow,：每行显示的分子数<br />\n",
    "subImgSize：图片大小<br />\n",
    "legends：标题<br />"
   ]
  },
  {
   "cell_type": "code",
   "execution_count": 28,
   "metadata": {},
   "outputs": [
    {
     "data": {
      "image/png": "[encoded data removed]",
      "text/plain": [
       "<PIL.PngImagePlugin.PngImageFile image mode=RGB size=600x300 at 0x9606188>"
      ]
     },
     "execution_count": 28,
     "metadata": {},
     "output_type": "execute_result"
    }
   ],
   "source": [
    "warnings.filterwarnings(\"ignore\")\n",
    "mols = df.mol.tolist()\n",
    "legends = df.Name.tolist()\n",
    "Draw.MolsToGridImage(mols, maxMols=2, molsPerRow=2, subImgSize=(300,300), legends=legends)  "
   ]
  },
  {
   "cell_type": "markdown",
   "metadata": {},
   "source": [
    "* 从mol列表生成结构：MolsToImage(mols, subImgSize, legends, ...)"
   ]
  },
  {
   "cell_type": "markdown",
   "metadata": {},
   "source": [
    "## 3D展示"
   ]
  },
  {
   "cell_type": "markdown",
   "metadata": {},
   "source": [
    "* 转换3D时，为了得到靠谱的三维构象，一般先加氢：AddHs(mol)\n",
    "* 通过距离几何算法计算3D坐标：EmbedMolecule(mol, randomSeed, ...)<br />\n",
    "mol：mol对象<br />\n",
    "randomSeed：随机种子\n",
    "\n",
    "* 转换完后再进行一步力场优化，比如MMFF94：MMFFOptimizeMolecule(mol)"
   ]
  },
  {
   "cell_type": "code",
   "execution_count": 29,
   "metadata": {},
   "outputs": [
    {
     "data": {
      "text/plain": [
       "1"
      ]
     },
     "execution_count": 29,
     "metadata": {},
     "output_type": "execute_result"
    }
   ],
   "source": [
    "m3d = Chem.MolFromSmiles('CNC(=O)N(N(CCCl)S(C)(=O)=O)S(C)(=O)=O')\n",
    "m3d = Chem.AddHs(m3d)\n",
    "AllChem.EmbedMolecule(m3d, randomSeed=3)\n",
    "AllChem.MMFFOptimizeMolecule(m3d)"
   ]
  },
  {
   "cell_type": "code",
   "execution_count": 30,
   "metadata": {},
   "outputs": [
    {
     "data": {
      "image/png": "[encoded data removed]",
      "text/plain": [
       "<PIL.PngImagePlugin.PngImageFile image mode=RGB size=250x250 at 0x92FC188>"
      ]
     },
     "execution_count": 30,
     "metadata": {},
     "output_type": "execute_result"
    }
   ],
   "source": [
    "Draw.MolToImage(m3d, size=(250,250))"
   ]
  }
 ],
 "metadata": {
  "kernelspec": {
   "display_name": "Python 3",
   "language": "python",
   "name": "python3"
  },
  "language_info": {
   "codemirror_mode": {
    "name": "ipython",
    "version": 3
   },
   "file_extension": ".py",
   "mimetype": "text/x-python",
   "name": "python",
   "nbconvert_exporter": "python",
   "pygments_lexer": "ipython3",
   "version": "3.7.4"
  },
  "toc-autonumbering": true
 },
 "nbformat": 4,
 "nbformat_minor": 4
}
